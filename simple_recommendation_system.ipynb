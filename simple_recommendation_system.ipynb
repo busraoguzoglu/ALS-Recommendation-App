{
 "cells": [
  {
   "cell_type": "markdown",
   "metadata": {},
   "source": [
    "Data Preprocessing"
   ]
  },
  {
   "cell_type": "code",
   "execution_count": 10,
   "metadata": {},
   "outputs": [],
   "source": [
    "import pandas as pd\n",
    "from sklearn.model_selection import train_test_split\n",
    "from scipy.sparse import csr_matrix\n",
    "import implicit\n",
    "\n",
    "# Load and preprocess data\n",
    "data = pd.read_parquet('train.parquet')\n",
    "data['date'] = pd.to_datetime(data['date'])\n",
    "\n",
    "# Aggregating user-item interactions\n",
    "user_item_interaction = data.groupby(['userId', 'itemId']).size().reset_index(name='interaction')\n",
    "\n",
    "# Create a user-item interaction matrix\n",
    "interaction_matrix = user_item_interaction.pivot(index='userId', columns='itemId', values='interaction').fillna(0)\n",
    "\n",
    "# Convert to sparse matrix format\n",
    "interaction_sparse = csr_matrix(interaction_matrix.values)\n",
    "\n",
    "# Train-test split\n",
    "train_data, test_data = train_test_split(user_item_interaction, test_size=0.2, random_state=42)\n",
    "\n",
    "# Create interaction matrices for train and test sets\n",
    "train_matrix = train_data.pivot(index='userId', columns='itemId', values='interaction').fillna(0)\n",
    "test_matrix = test_data.pivot(index='userId', columns='itemId', values='interaction').fillna(0)\n",
    "\n",
    "train_sparse = csr_matrix(train_matrix.values)\n",
    "test_sparse = csr_matrix(test_matrix.values)"
   ]
  },
  {
   "cell_type": "markdown",
   "metadata": {},
   "source": [
    "Model Building:\n",
    "\n",
    "Selected Model: https://benfred.github.io/implicit/api/models/cpu/als.html\n",
    "\n",
    "The ALS algorithm on the library is based on the paper: \"Collaborative Filtering for Implicit Feedback Datasets\" with additional optimizations. ALS algorithm is used with datasets where the data is implicit like click count, and it is suitable for large datasets."
   ]
  },
  {
   "cell_type": "code",
   "execution_count": 11,
   "metadata": {},
   "outputs": [
    {
     "name": "stderr",
     "output_type": "stream",
     "text": [
      "100%|██████████| 20/20 [00:11<00:00,  1.80it/s]\n"
     ]
    }
   ],
   "source": [
    "# Initialize the ALS model\n",
    "model = implicit.als.AlternatingLeastSquares(factors=50, regularization=0.1, iterations=20)\n",
    "\n",
    "# Train the model\n",
    "model.fit(train_sparse)\n",
    "\n",
    "def recommend_items_with_descriptions(user_id, model, interaction_matrix, interaction_sparse, data, num_recommendations=5):\n",
    "    user_index = interaction_matrix.index.get_loc(user_id)\n",
    "    item_indices, scores = model.recommend(user_index, interaction_sparse[user_index], N=num_recommendations)\n",
    "    recommended_item_ids = [interaction_matrix.columns[i] for i in item_indices]\n",
    "    \n",
    "    # Retrieve item descriptions\n",
    "    recommended_items = data[data['itemId'].isin(recommended_item_ids)][['itemId', 'category']].drop_duplicates().reset_index(drop=True)\n",
    "    \n",
    "    return recommended_items"
   ]
  },
  {
   "cell_type": "markdown",
   "metadata": {},
   "source": [
    "Demo"
   ]
  },
  {
   "cell_type": "code",
   "execution_count": 12,
   "metadata": {},
   "outputs": [
    {
     "name": "stdout",
     "output_type": "stream",
     "text": [
      "Recommended items for user 0001d86ea81e6eef12cebaa1dcbdadc2:\n",
      "                                              itemId  \\\n",
      "0                   1ebaecedff83b2c752deb1060147e21e   \n",
      "1                   790901c3b65b96818091880a4c79a8b8   \n",
      "2                   790901c3b65b96818091880a4c79a8b8   \n",
      "3                   aae00106ce8ee782b6541b4bbce37fed   \n",
      "4  [\"b2649b0b9daf26a1a4e8ce0cdf700b13\",\"66f120ebc...   \n",
      "5                   b4a195de86acbc620f75c1a04ca1a9b4   \n",
      "\n",
      "                                           category  \n",
      "0                [\"kadın ayakkabi\",\"spor ayakkabı\"]  \n",
      "1  [\"seyahat american tourister\",\"kabin boy valiz\"]  \n",
      "2            [\"seyahat american tourister\",\"çocuk\"]  \n",
      "3              [\"erkek ayakkabı\",\"günlük ayakkabı\"]  \n",
      "4                                                []  \n",
      "5                                                []  \n"
     ]
    }
   ],
   "source": [
    "# Example: Generate recommendations for a user\n",
    "example_user_id = interaction_matrix.index[0]\n",
    "recommended_items_with_desc = recommend_items_with_descriptions(example_user_id, model, interaction_matrix, interaction_sparse, data)\n",
    "print(f\"Recommended items for user {example_user_id}:\\n{recommended_items_with_desc}\")"
   ]
  }
 ],
 "metadata": {
  "kernelspec": {
   "display_name": ".venv",
   "language": "python",
   "name": "python3"
  },
  "language_info": {
   "codemirror_mode": {
    "name": "ipython",
    "version": 3
   },
   "file_extension": ".py",
   "mimetype": "text/x-python",
   "name": "python",
   "nbconvert_exporter": "python",
   "pygments_lexer": "ipython3",
   "version": "3.11.4"
  }
 },
 "nbformat": 4,
 "nbformat_minor": 2
}
